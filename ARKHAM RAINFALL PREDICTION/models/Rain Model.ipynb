{
 "cells": [
  {
   "cell_type": "code",
   "execution_count": 1,
   "id": "a25aa7ea",
   "metadata": {},
   "outputs": [],
   "source": [
    "import pandas as pd\n",
    "import numpy as np \n",
    "import matplotlib.pyplot as plt\n",
    "import seaborn as sns"
   ]
  },
  {
   "cell_type": "code",
   "execution_count": 2,
   "id": "69ce13a0",
   "metadata": {},
   "outputs": [],
   "source": [
    "weather_data = pd.read_csv('weather.csv')\n"
   ]
  },
  {
   "cell_type": "code",
   "execution_count": 3,
   "id": "68b48c30",
   "metadata": {},
   "outputs": [],
   "source": [
    "w = weather_data[['Location', 'MinTemp', 'MaxTemp', 'Rainfall', 'Evaporation', 'Sunshine', 'WindGustDir', \n",
    "                       'WindGustSpeed', 'WindDir9am', 'WindDir3pm', 'WindSpeed9am', 'WindSpeed3pm', 'Humidity9am', \n",
    "                       'Humidity3pm', 'Pressure9am', 'Pressure3pm', 'Cloud9am', 'Cloud3pm', 'Temp9am', 'Temp3pm', \n",
    "                       'RainToday']]"
   ]
  },
  {
   "cell_type": "code",
   "execution_count": 4,
   "id": "817de7bf",
   "metadata": {},
   "outputs": [
    {
     "data": {
      "text/plain": [
       "array(['No', 'Yes', nan], dtype=object)"
      ]
     },
     "execution_count": 4,
     "metadata": {},
     "output_type": "execute_result"
    }
   ],
   "source": [
    "w.RainToday.unique()"
   ]
  },
  {
   "cell_type": "code",
   "execution_count": 5,
   "id": "9ffe5b8c",
   "metadata": {},
   "outputs": [
    {
     "data": {
      "text/plain": [
       "array(['W', 'WNW', 'WSW', 'NE', 'NNW', 'N', 'NNE', 'SW', 'ENE', 'SSE',\n",
       "       'S', 'NW', 'SE', 'ESE', nan, 'E', 'SSW'], dtype=object)"
      ]
     },
     "execution_count": 5,
     "metadata": {},
     "output_type": "execute_result"
    }
   ],
   "source": [
    "weather_data.WindGustDir.unique()"
   ]
  },
  {
   "cell_type": "code",
   "execution_count": 6,
   "id": "23758b29",
   "metadata": {},
   "outputs": [
    {
     "data": {
      "text/plain": [
       "0      W\n",
       "1    WNW\n",
       "2    WSW\n",
       "3     NE\n",
       "4      W\n",
       "Name: WindGustDir, dtype: object"
      ]
     },
     "execution_count": 6,
     "metadata": {},
     "output_type": "execute_result"
    }
   ],
   "source": [
    "weather_data.WindGustDir.head()"
   ]
  },
  {
   "cell_type": "code",
   "execution_count": 7,
   "id": "bd19f5ca",
   "metadata": {},
   "outputs": [],
   "source": [
    "weather_data['RainToday'].replace({'No': 0, 'Yes': 1},inplace = True)\n",
    "weather_data['RainTomorrow'].replace({'No': 0, 'Yes': 1},inplace = True)\n",
    "\n"
   ]
  },
  {
   "cell_type": "code",
   "execution_count": 8,
   "id": "1eb44656",
   "metadata": {},
   "outputs": [],
   "source": [
    "from sklearn.utils import resample\n",
    "\n",
    "no = weather_data[weather_data.RainTomorrow == 0]\n",
    "yes = weather_data[weather_data.RainTomorrow == 1]\n",
    "yes_oversampled = resample(yes, replace=True, n_samples=len(no), random_state=123)\n",
    "w_oversampled = pd.concat([no, yes_oversampled])\n",
    "\n"
   ]
  },
  {
   "cell_type": "code",
   "execution_count": 9,
   "id": "d1ea4e16",
   "metadata": {},
   "outputs": [],
   "source": [
    "total = w_oversampled.isnull().sum().sort_values(ascending=False)\n",
    "percent = (w_oversampled.isnull().sum()/w_oversampled.isnull().count()).sort_values(ascending=False)\n",
    "missing = pd.concat([total, percent], axis=1, keys=['Total', 'Percent'])\n"
   ]
  },
  {
   "cell_type": "code",
   "execution_count": 10,
   "id": "e655942d",
   "metadata": {},
   "outputs": [
    {
     "data": {
      "text/plain": [
       "Index(['Date', 'Location', 'WindGustDir', 'WindDir9am', 'WindDir3pm'], dtype='object')"
      ]
     },
     "execution_count": 10,
     "metadata": {},
     "output_type": "execute_result"
    }
   ],
   "source": [
    "w_oversampled.select_dtypes(include=['object']).columns"
   ]
  },
  {
   "cell_type": "code",
   "execution_count": 11,
   "id": "69e5b33b",
   "metadata": {},
   "outputs": [],
   "source": [
    "w_oversampled['Date'] = w_oversampled['Date'].fillna(w_oversampled['Date'].mode()[0])\n",
    "w_oversampled['Location'] = w_oversampled['Location'].fillna(w_oversampled['Location'].mode()[0])\n",
    "w_oversampled['WindGustDir'] = w_oversampled['WindGustDir'].fillna(w_oversampled['WindGustDir'].mode()[0])\n",
    "w_oversampled['WindDir9am'] = w_oversampled['WindDir9am'].fillna(w_oversampled['WindDir9am'].mode()[0])\n",
    "w_oversampled['WindDir3pm'] = w_oversampled['WindDir3pm'].fillna(w_oversampled['WindDir3pm'].mode()[0])"
   ]
  },
  {
   "cell_type": "code",
   "execution_count": 12,
   "id": "92fc32e4",
   "metadata": {},
   "outputs": [],
   "source": [
    "from sklearn.preprocessing import LabelEncoder\n",
    "lencoders = {}\n",
    "for col in w_oversampled.select_dtypes(include=['object']).columns:\n",
    "    lencoders[col] = LabelEncoder()\n",
    "    w_oversampled[col] = lencoders[col].fit_transform(w_oversampled[col])"
   ]
  },
  {
   "cell_type": "code",
   "execution_count": 13,
   "id": "378e299b",
   "metadata": {},
   "outputs": [],
   "source": [
    "import warnings\n",
    "warnings.filterwarnings(\"ignore\")\n",
    "\n",
    "\n",
    "# Multiple Imputation by Chained Equations\n",
    "from sklearn.experimental import enable_iterative_imputer\n",
    "from sklearn.impute import IterativeImputer\n",
    "MiceImputed = w_oversampled.copy(deep=True) \n",
    "mice_imputer = IterativeImputer()\n",
    "MiceImputed.iloc[:, :] = mice_imputer.fit_transform(w_oversampled)"
   ]
  },
  {
   "cell_type": "code",
   "execution_count": 14,
   "id": "5cec108a",
   "metadata": {},
   "outputs": [
    {
     "name": "stdout",
     "output_type": "stream",
     "text": [
      "Date             1712.000000\n",
      "Location           25.000000\n",
      "MinTemp             9.300000\n",
      "MaxTemp            10.200000\n",
      "Rainfall            2.400000\n",
      "Evaporation         4.068832\n",
      "Sunshine            5.962861\n",
      "WindGustDir         9.000000\n",
      "WindGustSpeed      19.000000\n",
      "WindDir9am          8.000000\n",
      "WindDir3pm          8.000000\n",
      "WindSpeed9am       13.000000\n",
      "WindSpeed3pm       11.000000\n",
      "Humidity9am        26.000000\n",
      "Humidity3pm        30.000000\n",
      "Pressure9am         8.800000\n",
      "Pressure3pm         8.800000\n",
      "Cloud9am            4.000000\n",
      "Cloud3pm            3.687747\n",
      "Temp9am             9.300000\n",
      "Temp3pm             9.800000\n",
      "RainToday           1.000000\n",
      "RISK_MM             5.200000\n",
      "RainTomorrow        1.000000\n",
      "dtype: float64\n"
     ]
    }
   ],
   "source": [
    "# Detecting outliers with IQR\n",
    "Q1 = MiceImputed.quantile(0.25)\n",
    "Q3 = MiceImputed.quantile(0.75)\n",
    "IQR = Q3 - Q1\n",
    "print(IQR)"
   ]
  },
  {
   "cell_type": "code",
   "execution_count": 15,
   "id": "9c8b29b9",
   "metadata": {},
   "outputs": [
    {
     "data": {
      "text/plain": [
       "(156703, 24)"
      ]
     },
     "execution_count": 15,
     "metadata": {},
     "output_type": "execute_result"
    }
   ],
   "source": [
    "# Removing outliers from the dataset\n",
    "MiceImputed = MiceImputed[~((MiceImputed < (Q1 - 1.5 * IQR)) |(MiceImputed > (Q3 + 1.5 * IQR))).any(axis=1)]\n",
    "MiceImputed.shape"
   ]
  },
  {
   "cell_type": "code",
   "execution_count": 16,
   "id": "ea439f18",
   "metadata": {},
   "outputs": [],
   "source": [
    "features = MiceImputed[['Location', 'MinTemp', 'MaxTemp', 'Sunshine', 'WindGustDir', \n",
    "                       'WindGustSpeed', 'WindDir9am', 'WindDir3pm', 'WindSpeed9am', 'WindSpeed3pm', 'Humidity9am', \n",
    "                       'Humidity3pm', 'Cloud3pm', 'Temp9am', 'Temp3pm']]\n",
    "\n",
    "\n",
    "# features2 = MiceImputed[[\"Sunshine\", \"Humidity9am\", \"Cloud3pm\"]]\n",
    "\n",
    "target = MiceImputed['RainTomorrow']\n",
    "\n",
    "# Split into test and train\n",
    "from sklearn.model_selection import train_test_split\n",
    "\n",
    "X_train, X_test, y_train, y_test = train_test_split(features, target, test_size=0.25, random_state=12345)\n",
    "\n",
    "\n",
    "# X_train2, X_test2, y_train2, y_test2 = train_test_split(features2, target, test_size=0.25, random_state=12345)\n",
    "\n",
    "\n",
    "\n",
    "# Normalize Features\n",
    "# from sklearn.preprocessing import StandardScaler\n",
    "# scaler = StandardScaler()\n",
    "\n",
    "\n",
    "\n",
    "# X_train = scaler.fit_transform(X_train)\n",
    "# X_test = scaler.fit_transform(X_test)\n",
    "\n",
    "# X_train2 = scaler.fit_transform(X_train2)\n",
    "# X_test2 = scaler.fit_transform(X_test2)\n",
    "\n"
   ]
  },
  {
   "cell_type": "code",
   "execution_count": 17,
   "id": "c59cf3aa",
   "metadata": {},
   "outputs": [
    {
     "data": {
      "text/plain": [
       "Location         30.000000\n",
       "MinTemp           7.100000\n",
       "MaxTemp          18.200000\n",
       "Sunshine          5.671103\n",
       "WindGustDir       5.000000\n",
       "WindGustSpeed    17.000000\n",
       "WindDir9am        3.000000\n",
       "WindDir3pm       13.000000\n",
       "WindSpeed9am      0.000000\n",
       "WindSpeed3pm      0.000000\n",
       "Humidity9am      97.000000\n",
       "Humidity3pm      61.000000\n",
       "Cloud3pm          4.767781\n",
       "Temp9am          11.400000\n",
       "Temp3pm          18.100000\n",
       "Name: 24072, dtype: float64"
      ]
     },
     "execution_count": 17,
     "metadata": {},
     "output_type": "execute_result"
    }
   ],
   "source": [
    "X_train.iloc[19, :]"
   ]
  },
  {
   "cell_type": "code",
   "execution_count": 18,
   "id": "cc87f190",
   "metadata": {},
   "outputs": [],
   "source": [
    "# import time\n",
    "# from sklearn.metrics import accuracy_score, roc_auc_score, cohen_kappa_score, plot_confusion_matrix, roc_curve, classification_report\n",
    "# def run_model(model, X_train, y_train, X_test, y_test, verbose=True):\n",
    "#     t0=time.time()\n",
    "#     if verbose == False:\n",
    "#         model.fit(X_train,y_train, verbose=0)\n",
    "#     else:\n",
    "#         model.fit(X_train,y_train)\n",
    "#     y_pred = model.predict(X_test)\n",
    "#     accuracy = accuracy_score(y_test, y_pred)\n",
    "#     roc_auc = roc_auc_score(y_test, y_pred) \n",
    "#     coh_kap = cohen_kappa_score(y_test, y_pred)\n",
    "#     time_taken = time.time()-t0\n",
    "#     print(\"Accuracy = {}\".format(accuracy))\n",
    "#     print(\"ROC Area under Curve = {}\".format(roc_auc))\n",
    "#     print(\"Cohen's Kappa = {}\".format(coh_kap))\n",
    "#     print(\"Time taken = {}\".format(time_taken))\n",
    "#     print(classification_report(y_test,y_pred,digits=5))\n",
    "    \n",
    "# #     probs = model.predict_proba(X_test)  \n",
    "# #     probs = probs[:, 1]  \n",
    "# #     fper, tper, thresholds = roc_curve(y_test, probs) \n",
    "# #     plot_roc_cur(fper, tper)\n",
    "    \n",
    "#     plot_confusion_matrix(model, X_test, y_test,cmap=plt.cm.Blues, normalize = 'all')\n",
    "    \n",
    "#     return model, accuracy, roc_auc, coh_kap, time_taken"
   ]
  },
  {
   "cell_type": "code",
   "execution_count": 19,
   "id": "dbfd4c70",
   "metadata": {},
   "outputs": [
    {
     "name": "stdout",
     "output_type": "stream",
     "text": [
      "[12:07:24] WARNING: C:/Users/Administrator/workspace/xgboost-win64_release_1.4.0/src/learner.cc:1095: Starting in XGBoost 1.3.0, the default evaluation metric used with the objective 'binary:logistic' was changed from 'error' to 'logloss'. Explicitly set eval_metric if you'd like to restore the old behavior.\n"
     ]
    },
    {
     "data": {
      "text/plain": [
       "0.9589544619154584"
      ]
     },
     "execution_count": 19,
     "metadata": {},
     "output_type": "execute_result"
    }
   ],
   "source": [
    "# XGBoost\n",
    "import xgboost as xgb\n",
    "\n",
    "model_x = xgb.XGBClassifier(n_estimators = 500, max_depth = 16)\n",
    "\n",
    "model_x.fit(X_train, y_train)\n",
    "\n",
    "pred = model_x.predict(X_test)\n",
    "\n",
    "model_x.score(X_test, y_test)\n",
    "    \n",
    "\n",
    "\n",
    "# model_xgb, accuracy_xgb, roc_auc_xgb, coh_kap_xgb, tt_xgb = run_model(model_xgb, X_train1, y_train1, X_test1, y_test1)"
   ]
  },
  {
   "cell_type": "code",
   "execution_count": 20,
   "id": "5e2e1f3b",
   "metadata": {},
   "outputs": [],
   "source": [
    "import pickle\n",
    "\n",
    "pickle.dump(model_x, open(\"model.pkl\", \"wb\"))\n",
    "\n",
    "model = pickle.load(open(\"model.pkl\", \"rb\"))\n",
    "\n"
   ]
  },
  {
   "cell_type": "code",
   "execution_count": null,
   "id": "9e582742",
   "metadata": {},
   "outputs": [],
   "source": []
  }
 ],
 "metadata": {
  "kernelspec": {
   "display_name": "Python 3 (ipykernel)",
   "language": "python",
   "name": "python3"
  },
  "language_info": {
   "codemirror_mode": {
    "name": "ipython",
    "version": 3
   },
   "file_extension": ".py",
   "mimetype": "text/x-python",
   "name": "python",
   "nbconvert_exporter": "python",
   "pygments_lexer": "ipython3",
   "version": "3.9.7"
  }
 },
 "nbformat": 4,
 "nbformat_minor": 5
}
